{
 "cells": [
  {
   "cell_type": "code",
   "execution_count": 10,
   "metadata": {},
   "outputs": [],
   "source": [
    "import os, json\n",
    "import pandas as pd\n",
    "\n",
    "path_to_json = \"C:/Users/farbo/Downloads/FB1712/messages/inbox/\"\n",
    "directories = [pos_json for pos_json in os.listdir(path_to_json)]\n",
    "#json_files = [pos_json for pos_json in os.listdir(path_to_json) if pos_json.endswith('.json')]"
   ]
  },
  {
   "cell_type": "code",
   "execution_count": null,
   "metadata": {},
   "outputs": [],
   "source": [
    "for i in directories:\n",
    "    json_files = [pos_json for pos_json in os.listdir(os.path.join(path_to_json, i)) if pos_json.endswith('.json')]\n",
    "    jsons_data = pd.DataFrame(columns=['messages'])\n",
    "    #print(i)\n",
    "    for index, js in enumerate(json_files):\n",
    "        with open(os.path.join(path_to_json, i, js)) as json_file:\n",
    "            json_text = json.load(json_file)\n",
    "        # here you need to know the layout of your json and each json has to have\n",
    "        # the same structure (obviously not the structure I have here)\n",
    "            messages = json_text['messages']\n",
    "        # here I push a list of data into a pandas DataFrame at row given by 'index'\n",
    "            jsons_data.loc[index] = [messages]\n",
    "        \n",
    "    index = 0\n",
    "    messenger = pd.DataFrame(columns=['sender_name', 'timestamp_ms', 'content'])\n",
    "    for m in range(len(jsons_data)): #wszystkie pliki json\n",
    "        print(m)\n",
    "        for j in range(len(jsons_data.loc[m][0])): #wszystkie wiadomosci\n",
    "            # jak tu nie zadziała encoding i decoding, to wyciąć stąd i odkomentować na dole czy coś\n",
    "            sender_name = jsons_data.loc[m][0][j]['sender_name'].encode('raw_unicode_escape').decode('utf-8')\n",
    "            timestamp_ms = jsons_data.loc[m][0][j][\"timestamp_ms\"]\n",
    "            vocab = list(jsons_data.loc[m][0][j].keys())\n",
    "            # można też nie wstawiać \"zalacznik\", tylko bezpośrednio element (wtedy bez encodowania)\n",
    "            if(type(jsons_data.loc[m][0][j][vocab[2]])!=str): cont = \"zalacznik\"\n",
    "            else: cont = jsons_data.loc[m][0][j][vocab[2]].encode('raw_unicode_escape').decode('utf-8')\n",
    "            messenger.loc[index] = [sender_name, timestamp_ms, cont]\n",
    "            index += 1\n",
    "            #print(index)\n",
    "            \n",
    "   # for m in range(len(messenger)):\n",
    "    #    messenger[\"sender_name\"][m] = messenger[\"sender_name\"][m].encode('raw_unicode_escape').decode('utf-8')\n",
    "   #     if(type(messenger[\"content\"][m])==str):\n",
    "   #         messenger[\"content\"][m] = messenger[\"content\"][m].encode('raw_unicode_escape').decode('utf-8')\n",
    "\n",
    "    messenger.to_csv(i+\".csv\", encoding='utf-8-sig')"
   ]
  }
 ],
 "metadata": {
  "kernelspec": {
   "display_name": "Python 3 (ipykernel)",
   "language": "python",
   "name": "python3"
  },
  "language_info": {
   "codemirror_mode": {
    "name": "ipython",
    "version": 3
   },
   "file_extension": ".py",
   "mimetype": "text/x-python",
   "name": "python",
   "nbconvert_exporter": "python",
   "pygments_lexer": "ipython3",
   "version": "3.7.6"
  }
 },
 "nbformat": 4,
 "nbformat_minor": 4
}
