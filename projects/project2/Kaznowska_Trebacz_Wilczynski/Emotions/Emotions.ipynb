{
 "cells": [
  {
   "cell_type": "code",
   "execution_count": 97,
   "metadata": {},
   "outputs": [
    {
     "name": "stdout",
     "output_type": "stream",
     "text": [
      "Requirement already satisfied: unidecode in /home/kacper/anaconda3/lib/python3.7/site-packages (1.3.2)\n",
      "Requirement already satisfied: emojis in /home/kacper/anaconda3/lib/python3.7/site-packages (0.6.0)\n",
      "Requirement already satisfied: spacy in /home/kacper/anaconda3/lib/python3.7/site-packages (3.2.1)\n",
      "Requirement already satisfied: langcodes<4.0.0,>=3.2.0 in /home/kacper/anaconda3/lib/python3.7/site-packages (from spacy) (3.3.0)\n",
      "Requirement already satisfied: typing-extensions<4.0.0.0,>=3.7.4; python_version < \"3.8\" in /home/kacper/anaconda3/lib/python3.7/site-packages (from spacy) (3.7.4.3)\n",
      "Requirement already satisfied: cymem<2.1.0,>=2.0.2 in /home/kacper/anaconda3/lib/python3.7/site-packages (from spacy) (2.0.6)\n",
      "Requirement already satisfied: setuptools in /home/kacper/anaconda3/lib/python3.7/site-packages (from spacy) (50.3.0.post20201006)\n",
      "Requirement already satisfied: requests<3.0.0,>=2.13.0 in /home/kacper/anaconda3/lib/python3.7/site-packages (from spacy) (2.24.0)\n",
      "Requirement already satisfied: jinja2 in /home/kacper/anaconda3/lib/python3.7/site-packages (from spacy) (2.11.2)\n",
      "Requirement already satisfied: tqdm<5.0.0,>=4.38.0 in /home/kacper/anaconda3/lib/python3.7/site-packages (from spacy) (4.50.2)\n",
      "Requirement already satisfied: srsly<3.0.0,>=2.4.1 in /home/kacper/anaconda3/lib/python3.7/site-packages (from spacy) (2.4.2)\n",
      "Requirement already satisfied: numpy>=1.15.0 in /home/kacper/anaconda3/lib/python3.7/site-packages (from spacy) (1.18.5)\n",
      "Requirement already satisfied: spacy-legacy<3.1.0,>=3.0.8 in /home/kacper/anaconda3/lib/python3.7/site-packages (from spacy) (3.0.8)\n",
      "Requirement already satisfied: packaging>=20.0 in /home/kacper/anaconda3/lib/python3.7/site-packages (from spacy) (20.4)\n",
      "Requirement already satisfied: blis<0.8.0,>=0.4.0 in /home/kacper/anaconda3/lib/python3.7/site-packages (from spacy) (0.7.5)\n",
      "Requirement already satisfied: thinc<8.1.0,>=8.0.12 in /home/kacper/anaconda3/lib/python3.7/site-packages (from spacy) (8.0.13)\n",
      "Requirement already satisfied: preshed<3.1.0,>=3.0.2 in /home/kacper/anaconda3/lib/python3.7/site-packages (from spacy) (3.0.6)\n",
      "Requirement already satisfied: pathy>=0.3.5 in /home/kacper/anaconda3/lib/python3.7/site-packages (from spacy) (0.6.1)\n",
      "Requirement already satisfied: catalogue<2.1.0,>=2.0.6 in /home/kacper/anaconda3/lib/python3.7/site-packages (from spacy) (2.0.6)\n",
      "Requirement already satisfied: murmurhash<1.1.0,>=0.28.0 in /home/kacper/anaconda3/lib/python3.7/site-packages (from spacy) (1.0.6)\n",
      "Requirement already satisfied: typer<0.5.0,>=0.3.0 in /home/kacper/anaconda3/lib/python3.7/site-packages (from spacy) (0.4.0)\n",
      "Requirement already satisfied: wasabi<1.1.0,>=0.8.1 in /home/kacper/anaconda3/lib/python3.7/site-packages (from spacy) (0.9.0)\n",
      "Requirement already satisfied: pydantic!=1.8,!=1.8.1,<1.9.0,>=1.7.4 in /home/kacper/anaconda3/lib/python3.7/site-packages (from spacy) (1.8.2)\n",
      "Requirement already satisfied: spacy-loggers<2.0.0,>=1.0.0 in /home/kacper/anaconda3/lib/python3.7/site-packages (from spacy) (1.0.1)\n",
      "Requirement already satisfied: certifi>=2017.4.17 in /home/kacper/anaconda3/lib/python3.7/site-packages (from requests<3.0.0,>=2.13.0->spacy) (2020.12.5)\n",
      "Requirement already satisfied: urllib3!=1.25.0,!=1.25.1,<1.26,>=1.21.1 in /home/kacper/anaconda3/lib/python3.7/site-packages (from requests<3.0.0,>=2.13.0->spacy) (1.25.11)\n",
      "Requirement already satisfied: chardet<4,>=3.0.2 in /home/kacper/anaconda3/lib/python3.7/site-packages (from requests<3.0.0,>=2.13.0->spacy) (3.0.4)\n",
      "Requirement already satisfied: idna<3,>=2.5 in /home/kacper/anaconda3/lib/python3.7/site-packages (from requests<3.0.0,>=2.13.0->spacy) (2.10)\n",
      "Requirement already satisfied: MarkupSafe>=0.23 in /home/kacper/anaconda3/lib/python3.7/site-packages (from jinja2->spacy) (1.1.1)\n",
      "Requirement already satisfied: six in /home/kacper/anaconda3/lib/python3.7/site-packages (from packaging>=20.0->spacy) (1.15.0)\n",
      "Requirement already satisfied: pyparsing>=2.0.2 in /home/kacper/anaconda3/lib/python3.7/site-packages (from packaging>=20.0->spacy) (2.4.7)\n",
      "Requirement already satisfied: smart-open<6.0.0,>=5.0.0 in /home/kacper/anaconda3/lib/python3.7/site-packages (from pathy>=0.3.5->spacy) (5.2.1)\n",
      "Requirement already satisfied: zipp>=0.5; python_version < \"3.8\" in /home/kacper/anaconda3/lib/python3.7/site-packages (from catalogue<2.1.0,>=2.0.6->spacy) (3.4.0)\n",
      "Requirement already satisfied: click<9.0.0,>=7.1.1 in /home/kacper/anaconda3/lib/python3.7/site-packages (from typer<0.5.0,>=0.3.0->spacy) (7.1.2)\n"
     ]
    }
   ],
   "source": [
    "!pip install unidecode\n",
    "!pip install emojis\n",
    "!pip install spacy"
   ]
  },
  {
   "cell_type": "code",
   "execution_count": 169,
   "metadata": {},
   "outputs": [],
   "source": [
    "import os, json\n",
    "import pandas as pd\n",
    "from pathlib import Path\n",
    "from multiprocessing import Pool\n",
    "import re\n",
    "from functools import partial\n",
    "import emojis\n",
    "from unidecode import unidecode\n",
    "from spacy.lang.pl import Polish\n",
    "\n",
    "path_to_json = \"../data/messages/inbox/\"\n",
    "directories = [pos_json for pos_json in os.listdir(path_to_json)]\n"
   ]
  },
  {
   "cell_type": "code",
   "execution_count": 170,
   "metadata": {},
   "outputs": [],
   "source": [
    "SENDER_NAME = \"Kacper Trębacz\""
   ]
  },
  {
   "cell_type": "code",
   "execution_count": 148,
   "metadata": {},
   "outputs": [],
   "source": [
    "def get_emo_list(text):\n",
    "    return [e for e in emojis.iter(text)]\n"
   ]
  },
  {
   "cell_type": "code",
   "execution_count": 149,
   "metadata": {},
   "outputs": [],
   "source": [
    "fix_mojibake_escapes = partial(\n",
    "     re.compile(rb'\\\\u00([\\da-f]{2})').sub,\n",
    "     lambda m: bytes.fromhex(m.group(1).decode()))\n",
    "\n",
    "def do_dir_emo(i):\n",
    "    json_files = [pos_json for pos_json in os.listdir(os.path.join(path_to_json, i)) if pos_json.endswith('.json')]\n",
    "    jsons_data = pd.DataFrame(columns=['messages'])\n",
    "    entries = []\n",
    "    for index, js in enumerate(json_files):\n",
    "        path = Path(os.path.join(path_to_json, i, js))\n",
    "        with open(str(path), 'rb') as binary_data:\n",
    "            repaired = fix_mojibake_escapes(binary_data.read())\n",
    "        data = json.loads(repaired.decode('utf8'))\n",
    "        for msg in data[\"messages\"]:\n",
    "            if \"content\" in msg:\n",
    "                for emoji in get_emo_list(msg[\"content\"]):\n",
    "                    entries.append({\"Emoji\":emoji, \"Timestamp\":msg[\"timestamp_ms\"]})\n",
    "    df = pd.DataFrame(entries)\n",
    "    return df"
   ]
  },
  {
   "cell_type": "code",
   "execution_count": 150,
   "metadata": {},
   "outputs": [],
   "source": [
    "with Pool(12) as pool:\n",
    "    arr = [(i) for i in directories]\n",
    "    results = pool.map(do_dir_emo, arr)"
   ]
  },
  {
   "cell_type": "code",
   "execution_count": 151,
   "metadata": {},
   "outputs": [],
   "source": [
    "emoji_result = pd.concat(results).reset_index()"
   ]
  },
  {
   "cell_type": "code",
   "execution_count": 152,
   "metadata": {},
   "outputs": [],
   "source": [
    "emoji_result.to_csv(f\"{SENDER_NAME}_emojis.csv\")"
   ]
  },
  {
   "cell_type": "code",
   "execution_count": 171,
   "metadata": {},
   "outputs": [],
   "source": [
    "nlp = Polish()\n",
    "def do_dir_words(i):\n",
    "    json_files = [pos_json for pos_json in os.listdir(os.path.join(path_to_json, i)) if pos_json.endswith('.json')]\n",
    "    jsons_data = pd.DataFrame(columns=['messages'])\n",
    "    entries = {}\n",
    "    for index, js in enumerate(json_files):\n",
    "        path = Path(os.path.join(path_to_json, i, js))\n",
    "        with open(str(path), 'rb') as binary_data:\n",
    "            repaired = fix_mojibake_escapes(binary_data.read())\n",
    "        data = json.loads(repaired.decode('utf8'))\n",
    "        for msg in data[\"messages\"]:\n",
    "            if \"content\" in msg and msg[\"sender_name\"] == SENDER_NAME:\n",
    "                text = unidecode(msg[\"content\"])\n",
    "                doc = nlp(text)\n",
    "                words = [token.text.lower() for token in doc if token.text.isalpha()]\n",
    "                for before,after in zip(words[:-1],words[1:]):\n",
    "                    if not before in entries:\n",
    "                        entries[before] ={}\n",
    "                    if not after in entries[before]:\n",
    "                        entries[before][after] = 0\n",
    "                    entries[before][after] += 1\n",
    "    return entries"
   ]
  },
  {
   "cell_type": "code",
   "execution_count": 172,
   "metadata": {},
   "outputs": [],
   "source": [
    "with Pool(12) as pool:\n",
    "    arr = [(i) for i in directories]\n",
    "    \n",
    "    results = pool.map(do_dir_words, arr)"
   ]
  },
  {
   "cell_type": "code",
   "execution_count": 173,
   "metadata": {},
   "outputs": [],
   "source": [
    "final = {}\n",
    "for res in results:\n",
    "    for before, before_dict in res.items():\n",
    "        if not before in final:\n",
    "            final[before] = {}\n",
    "        final_before = final[before]\n",
    "        for after in before_dict:\n",
    "            if not after in final_before:\n",
    "                final_before[after] = 0\n",
    "            final_before[after] += before_dict[after];\n",
    "for before, before_dict in final.items():\n",
    "    before_sum = sum(before_dict.values())\n",
    "    for after in before_dict:\n",
    "        before_dict[after] /= before_sum"
   ]
  },
  {
   "cell_type": "code",
   "execution_count": 174,
   "metadata": {},
   "outputs": [],
   "source": [
    "entries = []\n",
    "for before, before_dict in final.items():\n",
    "    for after, value in before_dict.items():\n",
    "        entries.append({\"Before\":before, \"After\":after, \"Probability\": value})"
   ]
  },
  {
   "cell_type": "code",
   "execution_count": 175,
   "metadata": {},
   "outputs": [
    {
     "data": {
      "text/html": [
       "<div>\n",
       "<style scoped>\n",
       "    .dataframe tbody tr th:only-of-type {\n",
       "        vertical-align: middle;\n",
       "    }\n",
       "\n",
       "    .dataframe tbody tr th {\n",
       "        vertical-align: top;\n",
       "    }\n",
       "\n",
       "    .dataframe thead th {\n",
       "        text-align: right;\n",
       "    }\n",
       "</style>\n",
       "<table border=\"1\" class=\"dataframe\">\n",
       "  <thead>\n",
       "    <tr style=\"text-align: right;\">\n",
       "      <th></th>\n",
       "      <th>Before</th>\n",
       "      <th>After</th>\n",
       "      <th>Probability</th>\n",
       "    </tr>\n",
       "  </thead>\n",
       "  <tbody>\n",
       "    <tr>\n",
       "      <th>0</th>\n",
       "      <td>a</td>\n",
       "      <td>przez</td>\n",
       "      <td>0.000684</td>\n",
       "    </tr>\n",
       "    <tr>\n",
       "      <th>1</th>\n",
       "      <td>a</td>\n",
       "      <td>zmiescilaby</td>\n",
       "      <td>0.000137</td>\n",
       "    </tr>\n",
       "    <tr>\n",
       "      <th>2</th>\n",
       "      <td>a</td>\n",
       "      <td>czemu</td>\n",
       "      <td>0.006295</td>\n",
       "    </tr>\n",
       "    <tr>\n",
       "      <th>3</th>\n",
       "      <td>a</td>\n",
       "      <td>masz</td>\n",
       "      <td>0.014096</td>\n",
       "    </tr>\n",
       "    <tr>\n",
       "      <th>4</th>\n",
       "      <td>a</td>\n",
       "      <td>nawet</td>\n",
       "      <td>0.002463</td>\n",
       "    </tr>\n",
       "    <tr>\n",
       "      <th>...</th>\n",
       "      <td>...</td>\n",
       "      <td>...</td>\n",
       "      <td>...</td>\n",
       "    </tr>\n",
       "    <tr>\n",
       "      <th>146622</th>\n",
       "      <td>zaby</td>\n",
       "      <td>idziemy</td>\n",
       "      <td>1.000000</td>\n",
       "    </tr>\n",
       "    <tr>\n",
       "      <th>146623</th>\n",
       "      <td>gelar</td>\n",
       "      <td>to</td>\n",
       "      <td>1.000000</td>\n",
       "    </tr>\n",
       "    <tr>\n",
       "      <th>146624</th>\n",
       "      <td>potwierdz</td>\n",
       "      <td>zaproszenie</td>\n",
       "      <td>1.000000</td>\n",
       "    </tr>\n",
       "    <tr>\n",
       "      <th>146625</th>\n",
       "      <td>wpisalas</td>\n",
       "      <td>dane</td>\n",
       "      <td>1.000000</td>\n",
       "    </tr>\n",
       "    <tr>\n",
       "      <th>146626</th>\n",
       "      <td>destionation</td>\n",
       "      <td>path</td>\n",
       "      <td>1.000000</td>\n",
       "    </tr>\n",
       "  </tbody>\n",
       "</table>\n",
       "<p>146627 rows × 3 columns</p>\n",
       "</div>"
      ],
      "text/plain": [
       "              Before        After  Probability\n",
       "0                  a        przez     0.000684\n",
       "1                  a  zmiescilaby     0.000137\n",
       "2                  a        czemu     0.006295\n",
       "3                  a         masz     0.014096\n",
       "4                  a        nawet     0.002463\n",
       "...              ...          ...          ...\n",
       "146622          zaby      idziemy     1.000000\n",
       "146623         gelar           to     1.000000\n",
       "146624     potwierdz  zaproszenie     1.000000\n",
       "146625      wpisalas         dane     1.000000\n",
       "146626  destionation         path     1.000000\n",
       "\n",
       "[146627 rows x 3 columns]"
      ]
     },
     "execution_count": 175,
     "metadata": {},
     "output_type": "execute_result"
    }
   ],
   "source": [
    "word_order = pd.DataFrame(entries)\n",
    "word_order"
   ]
  },
  {
   "cell_type": "code",
   "execution_count": 168,
   "metadata": {},
   "outputs": [],
   "source": [
    "word_order.to_csv(f\"{SENDER_NAME}WordOrder.csv\")"
   ]
  },
  {
   "cell_type": "code",
   "execution_count": null,
   "metadata": {},
   "outputs": [],
   "source": []
  }
 ],
 "metadata": {
  "kernelspec": {
   "display_name": "Python [conda env:root] *",
   "language": "python",
   "name": "conda-root-py"
  },
  "language_info": {
   "codemirror_mode": {
    "name": "ipython",
    "version": 3
   },
   "file_extension": ".py",
   "mimetype": "text/x-python",
   "name": "python",
   "nbconvert_exporter": "python",
   "pygments_lexer": "ipython3",
   "version": "3.7.6"
  }
 },
 "nbformat": 4,
 "nbformat_minor": 4
}
